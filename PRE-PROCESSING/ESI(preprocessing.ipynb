{
 "cells": [
  {
   "cell_type": "code",
   "execution_count": 1,
   "metadata": {},
   "outputs": [],
   "source": [
    "import cv2"
   ]
  },
  {
   "cell_type": "code",
   "execution_count": 8,
   "metadata": {},
   "outputs": [],
   "source": [
    "import numpy as np\n",
    "#from scipy import ndimage\n",
    "#import tifffile as tiff\n",
    "import scipy\n",
    "import matplotlib.pyplot as plt\n",
    "import sys\n",
    "#import flatten-dict\n",
    "#import mcat\n",
    "\n",
    "#from PIL import Image\n",
    "#import pillow as plt\n",
    "\n",
    "\n",
    "# ------- Changes start here -------\n",
    "\n",
    "data = cv2.imread('C:\\\\Users\\\\james\\\\OneDrive\\\\Desktop\\\\VIT\\\\Sem III\\\\Image Processing\\\\Project\\\\Virus Dataset\\\\original-16bit\\\\class-001-sample-099-16bit.png'\n",
    ", cv2.IMREAD_GRAYSCALE)\n",
    "\n",
    "\n",
    "# print(data.ndim) = 2.. hence a 2d image\n",
    "\n",
    "# ------- Changes end here -------\n",
    "\n"
   ]
  },
  {
   "cell_type": "code",
   "execution_count": 10,
   "metadata": {},
   "outputs": [
    {
     "name": "stdout",
     "output_type": "stream",
     "text": [
      "Histogram of the image:\n",
      "[ 0  0  0  0  0  1  0  0  3  5  6  9 10 18  7  9  8  5  5  5  6  4  1  5\n",
      "  7  6  7  7  4  7  6  6  5  2  6  6  3  6  1  4  4  6  4  3  5  6  5  5\n",
      "  3  2  5  9  6  4  4  4  4  4 11  2  8  4  5  5  6  6  4  4  7  9 10  7\n",
      " 14  6  5 11 15 13 16 27 24 27 37 33 38 24 39 55 59 34 50 38 42 58 30 41\n",
      " 32 32 32 27 28 28 23 25 24 20 18 18 12 10  7  9  8  5 12  4 16  6  8  6\n",
      "  7  9  8 11 10  7  5  8  4 10  6  5  4  6  3  3  4  2  6  6  3  8  2  3\n",
      "  3  4  6  4  2  1  2  3  1  2  1  2  0  1  2  0  0  0  0  0  0  0  0  0\n",
      "  0  0  0  0  0  0  0  0  0  0  0  0  0  0  0  0  0  0  0  0  0  0  0  0\n",
      "  0  0  0  0  0  0  0  0  0  0  0  0  0  0  0  0  0  0  0  0  0  0  0  0\n",
      "  0  0  0  0  0  0  0  0  0  0  0  0  0  0  0  0  0  0  0  0  0  0  0  0\n",
      "  0  0  0  0  0  0  0  0  0  0  0  0  0  0  0  0]\n",
      "Exposure value: 0.3366811049970256\n",
      "Threshold value: 170\n",
      "l: 256\n",
      "len 171\n",
      "\n",
      "RESULT:\n",
      "Output matrix:\n",
      "\n",
      "\n",
      "[[12.0, 16.0, 12.0, 2.0, 0.0, 5.0, 10.0, 10.0, 8.0, 3.0, 3.0, 6.0, 9.0, 9.0, 13.0, 20.0, 21.0, 20.0, 21.0, 21.0, 21.0, 23.0, 30.0, 29.0, 34.0, 35.0, 33.0, 35.0, 49.0, 55.0, 70.0, 92.0, 103.0, 118.0, 115.0, 115.0, 119.0, 113.0, 109.0, 102.0, 103.0], [10.0, 8.0, 5.0, 5.0, 6.0, 9.0, 9.0, 12.0, 9.0, 6.0, 5.0, 2.0, 8.0, 8.0, 14.0, 17.0, 21.0, 24.0, 25.0, 25.0, 24.0, 29.0, 28.0, 26.0, 33.0, 35.0, 33.0, 37.0, 51.0, 55.0, 71.0, 94.0, 108.0, 119.0, 116.0, 111.0, 118.0, 118.0, 121.0, 109.0, 109.0], [9.0, 3.0, 3.0, 2.0, 6.0, 8.0, 6.0, 9.0, 6.0, 9.0, 6.0, 5.0, 9.0, 13.0, 17.0, 16.0, 17.0, 25.0, 23.0, 24.0, 25.0, 30.0, 30.0, 29.0, 32.0, 33.0, 35.0, 42.0, 52.0, 55.0, 64.0, 84.0, 103.0, 123.0, 131.0, 119.0, 119.0, 116.0, 119.0, 112.0, 113.0], [12.0, 8.0, 13.0, 9.0, 8.0, 9.0, 12.0, 6.0, 6.0, 10.0, 9.0, 10.0, 13.0, 15.0, 20.0, 17.0, 24.0, 26.0, 23.0, 25.0, 26.0, 28.0, 30.0, 30.0, 34.0, 38.0, 45.0, 48.0, 50.0, 55.0, 63.0, 75.0, 95.0, 126.0, 144.0, 122.0, 118.0, 123.0, 111.0, 105.0, 102.0], [9.0, 13.0, 16.0, 12.0, 8.0, 9.0, 9.0, 9.0, 12.0, 13.0, 10.0, 16.0, 16.0, 14.0, 23.0, 24.0, 30.0, 29.0, 28.0, 29.0, 30.0, 32.0, 33.0, 35.0, 37.0, 41.0, 48.0, 48.0, 49.0, 55.0, 68.0, 85.0, 98.0, 119.0, 131.0, 115.0, 111.0, 125.0, 111.0, 105.0, 99.0], [14.0, 17.0, 17.0, 14.0, 8.0, 3.0, 5.0, 9.0, 13.0, 15.0, 17.0, 18.0, 17.0, 17.0, 30.0, 28.0, 30.0, 34.0, 34.0, 37.0, 39.0, 38.0, 39.0, 40.0, 41.0, 41.0, 43.0, 49.0, 59.0, 71.0, 81.0, 94.0, 102.0, 108.0, 118.0, 118.0, 108.0, 106.0, 98.0, 103.0, 101.0], [25.0, 26.0, 23.0, 15.0, 12.0, 8.0, 9.0, 10.0, 14.0, 17.0, 20.0, 20.0, 25.0, 38.0, 43.0, 36.0, 35.0, 34.0, 37.0, 45.0, 44.0, 43.0, 44.0, 50.0, 50.0, 49.0, 51.0, 63.0, 73.0, 81.0, 86.0, 95.0, 102.0, 101.0, 106.0, 115.0, 106.0, 95.0, 102.0, 115.0, 112.0], [33.0, 30.0, 24.0, 21.0, 15.0, 12.0, 13.0, 15.0, 21.0, 28.0, 29.0, 30.0, 40.0, 53.0, 61.0, 58.0, 53.0, 44.0, 40.0, 43.0, 44.0, 44.0, 51.0, 60.0, 62.0, 60.0, 64.0, 82.0, 88.0, 85.0, 94.0, 108.0, 103.0, 98.0, 98.0, 98.0, 105.0, 105.0, 109.0, 112.0, 121.0], [42.0, 39.0, 35.0, 34.0, 24.0, 23.0, 28.0, 28.0, 35.0, 39.0, 39.0, 45.0, 53.0, 60.0, 79.0, 88.0, 81.0, 68.0, 55.0, 50.0, 46.0, 45.0, 55.0, 64.0, 68.0, 71.0, 79.0, 103.0, 111.0, 99.0, 103.0, 121.0, 116.0, 98.0, 86.0, 88.0, 111.0, 123.0, 116.0, 105.0, 119.0], [45.0, 45.0, 43.0, 39.0, 35.0, 38.0, 40.0, 42.0, 50.0, 49.0, 45.0, 52.0, 62.0, 73.0, 85.0, 84.0, 86.0, 84.0, 66.0, 61.0, 55.0, 55.0, 70.0, 73.0, 68.0, 88.0, 103.0, 112.0, 121.0, 109.0, 96.0, 112.0, 122.0, 113.0, 96.0, 99.0, 116.0, 134.0, 128.0, 125.0, 135.0], [45.0, 42.0, 42.0, 43.0, 46.0, 54.0, 48.0, 49.0, 58.0, 59.0, 54.0, 58.0, 81.0, 84.0, 73.0, 67.0, 81.0, 82.0, 68.0, 63.0, 62.0, 63.0, 84.0, 94.0, 85.0, 102.0, 106.0, 105.0, 103.0, 99.0, 96.0, 101.0, 106.0, 122.0, 126.0, 128.0, 129.0, 136.0, 135.0, 152.0, 154.0], [57.0, 49.0, 48.0, 51.0, 53.0, 55.0, 54.0, 52.0, 55.0, 63.0, 67.0, 70.0, 91.0, 94.0, 76.0, 78.0, 91.0, 85.0, 67.0, 62.0, 61.0, 70.0, 89.0, 113.0, 111.0, 113.0, 121.0, 113.0, 101.0, 99.0, 106.0, 99.0, 102.0, 121.0, 138.0, 139.0, 131.0, 131.0, 136.0, 153.0, 151.0], [82.0, 73.0, 66.0, 60.0, 55.0, 58.0, 63.0, 58.0, 57.0, 60.0, 74.0, 79.0, 79.0, 86.0, 98.0, 105.0, 116.0, 106.0, 76.0, 58.0, 67.0, 81.0, 89.0, 109.0, 112.0, 112.0, 122.0, 113.0, 101.0, 98.0, 101.0, 99.0, 106.0, 112.0, 128.0, 128.0, 119.0, 119.0, 132.0, 151.0, 144.0], [105.0, 98.0, 84.0, 67.0, 58.0, 61.0, 68.0, 61.0, 62.0, 70.0, 75.0, 91.0, 84.0, 82.0, 101.0, 108.0, 122.0, 116.0, 88.0, 66.0, 73.0, 84.0, 91.0, 101.0, 105.0, 99.0, 105.0, 102.0, 88.0, 86.0, 86.0, 96.0, 115.0, 116.0, 119.0, 116.0, 113.0, 116.0, 141.0, 155.0, 141.0], [128.0, 119.0, 94.0, 78.0, 71.0, 70.0, 62.0, 55.0, 78.0, 89.0, 75.0, 88.0, 89.0, 92.0, 102.0, 95.0, 102.0, 105.0, 88.0, 64.0, 76.0, 86.0, 86.0, 94.0, 99.0, 98.0, 98.0, 101.0, 98.0, 92.0, 89.0, 103.0, 123.0, 125.0, 118.0, 115.0, 116.0, 122.0, 146.0, 151.0, 136.0], [160.0, 147.0, 121.0, 99.0, 101.0, 82.0, 58.0, 52.0, 75.0, 95.0, 76.0, 73.0, 85.0, 95.0, 102.0, 89.0, 98.0, 103.0, 86.0, 79.0, 89.0, 96.0, 95.0, 98.0, 94.0, 82.0, 86.0, 101.0, 109.0, 109.0, 109.0, 122.0, 121.0, 112.0, 115.0, 116.0, 113.0, 123.0, 144.0, 135.0, 125.0], [168.0, 162.0, 151.0, 139.0, 125.0, 99.0, 70.0, 59.0, 70.0, 95.0, 91.0, 89.0, 99.0, 101.0, 94.0, 88.0, 102.0, 111.0, 106.0, 108.0, 121.0, 118.0, 109.0, 105.0, 98.0, 88.0, 91.0, 102.0, 116.0, 126.0, 134.0, 138.0, 109.0, 95.0, 99.0, 108.0, 102.0, 113.0, 136.0, 126.0, 130.0], [160.0, 152.0, 155.0, 156.0, 141.0, 125.0, 103.0, 79.0, 76.0, 102.0, 113.0, 102.0, 103.0, 102.0, 98.0, 94.0, 95.0, 109.0, 115.0, 115.0, 116.0, 115.0, 111.0, 102.0, 94.0, 94.0, 105.0, 111.0, 113.0, 121.0, 126.0, 129.0, 108.0, 88.0, 88.0, 96.0, 92.0, 112.0, 134.0, 128.0, 134.0], [155.0, 144.0, 150.0, 152.0, 144.0, 131.0, 113.0, 91.0, 82.0, 105.0, 109.0, 89.0, 88.0, 105.0, 112.0, 101.0, 95.0, 98.0, 98.0, 95.0, 95.0, 105.0, 106.0, 102.0, 88.0, 82.0, 102.0, 116.0, 112.0, 108.0, 108.0, 102.0, 94.0, 85.0, 86.0, 96.0, 94.0, 108.0, 116.0, 118.0, 134.0], [167.0, 162.0, 156.0, 148.0, 145.0, 141.0, 121.0, 92.0, 81.0, 78.0, 86.0, 86.0, 96.0, 113.0, 111.0, 99.0, 92.0, 101.0, 103.0, 96.0, 92.0, 94.0, 102.0, 108.0, 95.0, 78.0, 89.0, 118.0, 109.0, 102.0, 95.0, 78.0, 74.0, 84.0, 92.0, 94.0, 108.0, 118.0, 112.0, 119.0, 134.0], [170.0, 169.0, 160.0, 144.0, 131.0, 139.0, 131.0, 102.0, 84.0, 74.0, 73.0, 78.0, 89.0, 106.0, 112.0, 113.0, 102.0, 105.0, 105.0, 101.0, 101.0, 92.0, 85.0, 94.0, 95.0, 84.0, 99.0, 119.0, 118.0, 106.0, 89.0, 78.0, 85.0, 89.0, 92.0, 92.0, 115.0, 122.0, 112.0, 118.0, 122.0], [160.0, 157.0, 152.0, 141.0, 128.0, 136.0, 135.0, 108.0, 102.0, 88.0, 82.0, 78.0, 82.0, 95.0, 106.0, 108.0, 106.0, 106.0, 98.0, 92.0, 94.0, 92.0, 82.0, 78.0, 79.0, 92.0, 113.0, 121.0, 125.0, 112.0, 92.0, 92.0, 95.0, 95.0, 96.0, 99.0, 113.0, 106.0, 102.0, 112.0, 116.0], [138.0, 135.0, 129.0, 135.0, 142.0, 144.0, 129.0, 109.0, 106.0, 95.0, 88.0, 95.0, 96.0, 88.0, 94.0, 96.0, 108.0, 112.0, 98.0, 89.0, 86.0, 92.0, 89.0, 79.0, 78.0, 94.0, 105.0, 112.0, 115.0, 108.0, 95.0, 98.0, 95.0, 98.0, 101.0, 101.0, 108.0, 99.0, 109.0, 118.0, 109.0], [147.0, 146.0, 134.0, 144.0, 153.0, 142.0, 131.0, 123.0, 109.0, 96.0, 85.0, 91.0, 92.0, 81.0, 85.0, 95.0, 109.0, 111.0, 99.0, 86.0, 89.0, 102.0, 91.0, 74.0, 74.0, 82.0, 86.0, 98.0, 106.0, 101.0, 98.0, 101.0, 95.0, 86.0, 95.0, 101.0, 109.0, 105.0, 119.0, 115.0, 95.0], [156.0, 154.0, 144.0, 145.0, 151.0, 145.0, 145.0, 145.0, 121.0, 95.0, 82.0, 84.0, 85.0, 86.0, 89.0, 85.0, 99.0, 103.0, 101.0, 92.0, 88.0, 92.0, 85.0, 82.0, 85.0, 86.0, 89.0, 103.0, 102.0, 96.0, 102.0, 115.0, 102.0, 86.0, 99.0, 116.0, 122.0, 116.0, 121.0, 115.0, 94.0], [158.0, 147.0, 134.0, 145.0, 141.0, 136.0, 146.0, 153.0, 136.0, 112.0, 96.0, 86.0, 95.0, 102.0, 99.0, 95.0, 109.0, 101.0, 95.0, 102.0, 88.0, 79.0, 95.0, 108.0, 98.0, 91.0, 94.0, 103.0, 94.0, 99.0, 106.0, 112.0, 96.0, 82.0, 101.0, 113.0, 128.0, 123.0, 116.0, 111.0, 98.0], [166.0, 146.0, 151.0, 155.0, 142.0, 139.0, 151.0, 156.0, 151.0, 134.0, 106.0, 91.0, 103.0, 119.0, 121.0, 109.0, 109.0, 99.0, 94.0, 102.0, 95.0, 94.0, 108.0, 118.0, 105.0, 94.0, 94.0, 101.0, 99.0, 102.0, 105.0, 99.0, 95.0, 94.0, 101.0, 106.0, 116.0, 116.0, 106.0, 99.0, 92.0], [169.0, 159.0, 163.0, 164.0, 151.0, 146.0, 152.0, 152.0, 148.0, 145.0, 129.0, 102.0, 106.0, 126.0, 134.0, 115.0, 98.0, 95.0, 105.0, 113.0, 105.0, 103.0, 111.0, 111.0, 98.0, 94.0, 86.0, 92.0, 94.0, 98.0, 102.0, 98.0, 95.0, 101.0, 105.0, 105.0, 101.0, 102.0, 106.0, 105.0, 102.0], [169.0, 163.0, 162.0, 167.0, 153.0, 147.0, 155.0, 150.0, 131.0, 134.0, 134.0, 111.0, 112.0, 122.0, 139.0, 123.0, 96.0, 98.0, 112.0, 118.0, 109.0, 101.0, 108.0, 108.0, 95.0, 92.0, 85.0, 88.0, 89.0, 89.0, 89.0, 94.0, 91.0, 103.0, 112.0, 98.0, 85.0, 94.0, 109.0, 111.0, 108.0], [167.0, 162.0, 159.0, 163.0, 153.0, 146.0, 156.0, 145.0, 126.0, 122.0, 119.0, 122.0, 130.0, 136.0, 148.0, 130.0, 108.0, 111.0, 106.0, 105.0, 108.0, 103.0, 111.0, 109.0, 98.0, 96.0, 99.0, 96.0, 94.0, 88.0, 88.0, 89.0, 82.0, 105.0, 111.0, 94.0, 82.0, 94.0, 102.0, 95.0, 96.0], [162.0, 166.0, 167.0, 163.0, 155.0, 144.0, 146.0, 142.0, 131.0, 118.0, 113.0, 125.0, 139.0, 145.0, 154.0, 134.0, 123.0, 123.0, 109.0, 101.0, 98.0, 105.0, 106.0, 96.0, 91.0, 102.0, 116.0, 112.0, 105.0, 102.0, 96.0, 89.0, 86.0, 112.0, 105.0, 88.0, 81.0, 94.0, 94.0, 78.0, 89.0], [164.0, 166.0, 169.0, 170.0, 167.0, 158.0, 148.0, 148.0, 142.0, 129.0, 122.0, 122.0, 131.0, 132.0, 138.0, 132.0, 121.0, 121.0, 106.0, 102.0, 101.0, 108.0, 109.0, 98.0, 92.0, 111.0, 123.0, 113.0, 105.0, 112.0, 102.0, 79.0, 84.0, 115.0, 99.0, 82.0, 82.0, 92.0, 89.0, 85.0, 94.0], [163.0, 166.0, 169.0, 170.0, 168.0, 166.0, 162.0, 157.0, 142.0, 131.0, 134.0, 125.0, 128.0, 130.0, 119.0, 121.0, 113.0, 105.0, 103.0, 118.0, 122.0, 113.0, 111.0, 102.0, 98.0, 103.0, 111.0, 102.0, 101.0, 108.0, 96.0, 75.0, 96.0, 129.0, 108.0, 88.0, 91.0, 99.0, 95.0, 99.0, 98.0], [160.0, 167.0, 168.0, 166.0, 162.0, 159.0, 162.0, 157.0, 129.0, 119.0, 132.0, 118.0, 115.0, 118.0, 118.0, 118.0, 99.0, 92.0, 95.0, 118.0, 125.0, 119.0, 118.0, 108.0, 102.0, 99.0, 96.0, 94.0, 96.0, 102.0, 91.0, 74.0, 98.0, 122.0, 105.0, 98.0, 102.0, 101.0, 95.0, 106.0, 98.0], [159.0, 167.0, 168.0, 160.0, 159.0, 156.0, 148.0, 141.0, 119.0, 108.0, 115.0, 105.0, 95.0, 96.0, 109.0, 112.0, 84.0, 82.0, 84.0, 95.0, 106.0, 113.0, 116.0, 115.0, 115.0, 111.0, 103.0, 102.0, 95.0, 95.0, 86.0, 73.0, 98.0, 113.0, 95.0, 95.0, 105.0, 98.0, 102.0, 108.0, 95.0], [162.0, 168.0, 169.0, 164.0, 165.0, 162.0, 139.0, 123.0, 113.0, 89.0, 84.0, 84.0, 86.0, 86.0, 94.0, 98.0, 89.0, 81.0, 86.0, 92.0, 99.0, 102.0, 108.0, 103.0, 103.0, 103.0, 106.0, 103.0, 95.0, 95.0, 89.0, 82.0, 98.0, 94.0, 84.0, 94.0, 99.0, 98.0, 109.0, 101.0, 92.0], [159.0, 162.0, 165.0, 165.0, 165.0, 157.0, 134.0, 111.0, 106.0, 91.0, 86.0, 89.0, 86.0, 76.0, 79.0, 94.0, 92.0, 85.0, 94.0, 106.0, 105.0, 103.0, 105.0, 92.0, 82.0, 95.0, 103.0, 99.0, 102.0, 109.0, 96.0, 92.0, 102.0, 86.0, 76.0, 88.0, 91.0, 94.0, 102.0, 91.0, 85.0], [144.0, 141.0, 148.0, 154.0, 150.0, 134.0, 111.0, 91.0, 95.0, 94.0, 92.0, 88.0, 84.0, 85.0, 91.0, 101.0, 91.0, 82.0, 92.0, 99.0, 96.0, 98.0, 101.0, 85.0, 78.0, 95.0, 102.0, 92.0, 101.0, 109.0, 94.0, 101.0, 113.0, 98.0, 81.0, 85.0, 88.0, 89.0, 94.0, 91.0, 91.0], [142.0, 141.0, 145.0, 142.0, 130.0, 115.0, 86.0, 68.0, 70.0, 68.0, 76.0, 84.0, 84.0, 82.0, 92.0, 101.0, 89.0, 85.0, 89.0, 94.0, 89.0, 94.0, 92.0, 84.0, 73.0, 81.0, 92.0, 95.0, 102.0, 101.0, 86.0, 95.0, 111.0, 105.0, 86.0, 86.0, 92.0, 86.0, 89.0, 102.0, 99.0], [150.0, 151.0, 148.0, 138.0, 116.0, 96.0, 70.0, 55.0, 50.0, 54.0, 66.0, 73.0, 73.0, 71.0, 85.0, 89.0, 86.0, 85.0, 88.0, 91.0, 94.0, 94.0, 88.0, 84.0, 73.0, 71.0, 89.0, 98.0, 101.0, 98.0, 82.0, 82.0, 86.0, 94.0, 88.0, 81.0, 95.0, 94.0, 88.0, 101.0, 99.0], [147.0, 138.0, 122.0, 113.0, 96.0, 71.0, 55.0, 49.0, 49.0, 59.0, 67.0, 67.0, 68.0, 78.0, 81.0, 81.0, 76.0, 81.0, 92.0, 96.0, 98.0, 89.0, 78.0, 79.0, 79.0, 84.0, 95.0, 95.0, 94.0, 88.0, 76.0, 73.0, 76.0, 95.0, 96.0, 89.0, 88.0, 85.0, 82.0, 96.0, 105.0]]\n"
     ]
    },
    {
     "name": "stderr",
     "output_type": "stream",
     "text": [
      "C:\\Users\\james\\Anaconda3\\lib\\site-packages\\ipykernel_launcher.py:61: RuntimeWarning: invalid value encountered in longlong_scalars\n"
     ]
    }
   ],
   "source": [
    "w=len(data)\n",
    "l1=len(data[0])\n",
    "hist,bins = np.histogram(data.ravel(),256,[0,256])\n",
    "print(\"Histogram of the image:\")\n",
    "print (hist) #Histogram of the image calculate\n",
    "\n",
    "#Step2, calculate Xa\n",
    "num =0\n",
    "denum=0\n",
    "l=len(hist)\n",
    "for i in range(1,l+1) :\n",
    "    num+= hist[i-1]*i\n",
    "    denum+=hist[i-1]\n",
    "\n",
    "#Step3 Clipping threshold and calculate clipping hstogram\n",
    "exposure = (1.0/l)*(num/(1.0*denum))\n",
    "xa=int(round(l*(1-exposure)))\n",
    "print(\"Exposure value:\", exposure)\n",
    "print(\"Threshold value:\", xa)\n",
    "print(\"l:\",l)\n",
    "\n",
    "clipthreshold =0\n",
    "\n",
    "s=0\n",
    "for i in range(1,l+1):\n",
    "   s+=hist[i-1]\n",
    "clipthreshold = (1.0/l)*s\n",
    "\n",
    "hist_c=[]\n",
    "\n",
    "for i in range(1, l+1):\n",
    "    if(hist[i-1]>clipthreshold):\n",
    "        hist_c.append(clipthreshold)\n",
    "    else:\n",
    "        hist_c.append(hist[i-1])\n",
    "\n",
    "# print(\"Clipped Histogram of the image:\")\n",
    "# print (hist_c) #Clipped Histogram of the image\n",
    "# print(\"Rounded exp value:\", int(round(xa)))\n",
    "#Step 4 Histogram Sub Division and Equalization\n",
    "undexp= []\n",
    "overexp= []\n",
    "underexp= hist[0:int(round(xa+1))]\n",
    "overexp= hist[int(round(xa+1)):l]\n",
    "\n",
    "nl=0\n",
    "nu=0\n",
    "\n",
    "for i in range (0,xa+1):\n",
    "    nl+=hist_c[i]\n",
    "for i in range (xa+1, l):\n",
    "    nu+=hist_c[i]\n",
    "\n",
    "pl=[]\n",
    "pu=[]\n",
    "for i in range(0,int(round(xa+1))):\n",
    "    # print(hist_c[i],\"and\", nl)\n",
    "    pl.append(hist_c[i]/nl)\n",
    "\n",
    "for i in range(int(round(xa+1)),l):\n",
    "    pu.append(hist_c[i]/nu)\n",
    "    # print(pu[i], \":::\", i)\n",
    "\n",
    "\n",
    "#Get corresponding CDF\n",
    "cl =[]\n",
    "cu =[]\n",
    "\n",
    "cl.append(pl[0])\n",
    "print(\"len\",len(pl))\n",
    "for r in range(1,len(pl)):\n",
    "    cl.append(pl[r]+cl[r-1])\n",
    "\n",
    "cu.append(pu[0])\n",
    "for r in range(1,(len(pu))):\n",
    "    cu.append(pu[r]+cu[r-1])\n",
    "\n",
    "ESIHEoutput = [[0 for x in range(l1)] for y in range(w)]\n",
    "# print(\"row and col\",w, \"and\",l1)\n",
    "\n",
    "# print(\"Data:\",data[0]) #Check this output @Nikhil\n",
    "for r in range(0,w ):\n",
    "    for s in range (0,l1):\n",
    "        if data[r][s]<(xa+1):\n",
    "            f=xa*cl[data[r][s]+1]\n",
    "            # print(\"r\",r,\"s\",s)\n",
    "            ESIHEoutput[r][s]=round(f)\n",
    "            # print(\"ESIHE\", r,\" n \", s, \":\",ESIHEoutput[r][s])\n",
    "        else:\n",
    "            f=(xa+1)+(255-xa)*cu[(data[r][s]-(xa+1))+1]\n",
    "            ESIHEoutput[r][s]=round(f)\n",
    "\n",
    "\n",
    "print(\"\\nRESULT:\")\n",
    "\n",
    "print(\"Output matrix:\\n\\n\")\n",
    "print(ESIHEoutput)"
   ]
  },
  {
   "cell_type": "code",
   "execution_count": 12,
   "metadata": {},
   "outputs": [],
   "source": [
    "check = np.array(ESIHEoutput)"
   ]
  },
  {
   "cell_type": "code",
   "execution_count": 13,
   "metadata": {},
   "outputs": [
    {
     "data": {
      "text/plain": [
       "(41, 41)"
      ]
     },
     "execution_count": 13,
     "metadata": {},
     "output_type": "execute_result"
    }
   ],
   "source": [
    "check.shape"
   ]
  },
  {
   "cell_type": "code",
   "execution_count": 14,
   "metadata": {},
   "outputs": [
    {
     "name": "stdout",
     "output_type": "stream",
     "text": [
      "[[ 12.  16.  12. ... 109. 102. 103.]\n",
      " [ 10.   8.   5. ... 121. 109. 109.]\n",
      " [  9.   3.   3. ... 119. 112. 113.]\n",
      " ...\n",
      " [142. 141. 145. ...  89. 102.  99.]\n",
      " [150. 151. 148. ...  88. 101.  99.]\n",
      " [147. 138. 122. ...  82.  96. 105.]]\n"
     ]
    }
   ],
   "source": [
    "print(check)"
   ]
  },
  {
   "cell_type": "code",
   "execution_count": 15,
   "metadata": {},
   "outputs": [
    {
     "data": {
      "text/plain": [
       "<matplotlib.image.AxesImage at 0x1b862c03c88>"
      ]
     },
     "execution_count": 15,
     "metadata": {},
     "output_type": "execute_result"
    },
    {
     "data": {
      "image/png": "[encoded data removed]",
      "text/plain": [
       "<matplotlib.figure.Figure at 0x1b860b183c8>"
      ]
     },
     "metadata": {},
     "output_type": "display_data"
    }
   ],
   "source": [
    "plt.imshow(check,cmap=plt.cm.gray)"
   ]
  },
  {
   "cell_type": "code",
   "execution_count": null,
   "metadata": {},
   "outputs": [],
   "source": []
  }
 ],
 "metadata": {
  "kernelspec": {
   "display_name": "Python 3",
   "language": "python",
   "name": "python3"
  },
  "language_info": {
   "codemirror_mode": {
    "name": "ipython",
    "version": 3
   },
   "file_extension": ".py",
   "mimetype": "text/x-python",
   "name": "python",
   "nbconvert_exporter": "python",
   "pygments_lexer": "ipython3",
   "version": "3.5.5"
  }
 },
 "nbformat": 4,
 "nbformat_minor": 2
}
