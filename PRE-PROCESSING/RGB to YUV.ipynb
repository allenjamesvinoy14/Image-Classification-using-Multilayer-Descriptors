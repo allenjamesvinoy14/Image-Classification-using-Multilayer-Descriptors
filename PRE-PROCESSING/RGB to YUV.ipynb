{
 "cells": [
  {
   "cell_type": "code",
   "execution_count": 20,
   "metadata": {},
   "outputs": [],
   "source": [
    "WEIGHTEDRED=0.299\n",
    "WEIGHTEDGREEN=0.587\n",
    "WEIGHTEDBLUE=0.114\n",
    "UMAX=0.436\n",
    "VMAX=0.615"
   ]
  },
  {
   "cell_type": "code",
   "execution_count": 21,
   "metadata": {},
   "outputs": [],
   "source": [
    "def convertRGBYUV(red,green,blue):\n",
    "    yPrime = (WEIGHTEDRED * red)+(WEIGHTEDGREEN * green) +(WEIGHTEDBLUE * blue);\n",
    "\n",
    "    #U = U[max] * (B - Y') / (1 - W[b])\n",
    "\n",
    "    uValue = UMAX * ((blue - yPrime)/(1 - WEIGHTEDBLUE));\n",
    "    \n",
    "    #V = V[max] * (R - Y') / (1 - W[r])\n",
    "    vValue = VMAX*((red - yPrime)/(1 - WEIGHTEDRED));\n",
    "    \n",
    "    return yPrime,uValue,vValue\n"
   ]
  },
  {
   "cell_type": "code",
   "execution_count": 22,
   "metadata": {},
   "outputs": [],
   "source": [
    "import cv2"
   ]
  },
  {
   "cell_type": "code",
   "execution_count": 23,
   "metadata": {},
   "outputs": [],
   "source": [
    "img = cv2.imread(\"C:\\\\Users\\\\james\\\\OneDrive\\\\Desktop\\\\VIT\\\\Sem III\\\\Image Processing\\\\Project\\\\Virus Dataset\\\\original-16bit\\\\class-001-sample-091-16bit.png\", cv2.IMREAD_GRAYSCALE)"
   ]
  },
  {
   "cell_type": "code",
   "execution_count": 24,
   "metadata": {},
   "outputs": [
    {
     "data": {
      "text/plain": [
       "numpy.ndarray"
      ]
     },
     "execution_count": 24,
     "metadata": {},
     "output_type": "execute_result"
    }
   ],
   "source": [
    "type(img)"
   ]
  },
  {
   "cell_type": "code",
   "execution_count": 25,
   "metadata": {},
   "outputs": [
    {
     "data": {
      "text/plain": [
       "(41, 41)"
      ]
     },
     "execution_count": 25,
     "metadata": {},
     "output_type": "execute_result"
    }
   ],
   "source": [
    "img.shape"
   ]
  },
  {
   "cell_type": "code",
   "execution_count": 26,
   "metadata": {},
   "outputs": [],
   "source": [
    "testimg=cv2.imread(\"C:\\\\Users\\\\james\\\\OneDrive\\\\Pictures\\\\graVITas ML Workshop\\\\3.jpg\")"
   ]
  },
  {
   "cell_type": "code",
   "execution_count": 27,
   "metadata": {},
   "outputs": [],
   "source": [
    "shape=testimg.shape"
   ]
  },
  {
   "cell_type": "code",
   "execution_count": 28,
   "metadata": {},
   "outputs": [],
   "source": [
    "for i in range(0,shape[0]):\n",
    "    for j in range(0,shape[1]):\n",
    "        y,u,v=convertRGBYUV(testimg[i][j][2],testimg[i][j][1],testimg[i][j][0])\n",
    "        testimg[i][j][2]=v\n",
    "        testimg[i][j][1]=u\n",
    "        testimg[i][j][0]=y\n",
    "            "
   ]
  },
  {
   "cell_type": "code",
   "execution_count": 29,
   "metadata": {},
   "outputs": [
    {
     "data": {
      "text/plain": [
       "<matplotlib.image.AxesImage at 0x21050325358>"
      ]
     },
     "execution_count": 29,
     "metadata": {},
     "output_type": "execute_result"
    }
   ],
   "source": [
    "import matplotlib.pyplot as plt\n",
    "plt.imshow(testimg)"
   ]
  },
  {
   "cell_type": "code",
   "execution_count": 30,
   "metadata": {},
   "outputs": [
    {
     "data": {
      "text/plain": [
       "(2000, 2992, 3)"
      ]
     },
     "execution_count": 30,
     "metadata": {},
     "output_type": "execute_result"
    }
   ],
   "source": [
    "testimg.shape"
   ]
  },
  {
   "cell_type": "code",
   "execution_count": null,
   "metadata": {},
   "outputs": [],
   "source": []
  }
 ],
 "metadata": {
  "kernelspec": {
   "display_name": "Python 3",
   "language": "python",
   "name": "python3"
  },
  "language_info": {
   "codemirror_mode": {
    "name": "ipython",
    "version": 3
   },
   "file_extension": ".py",
   "mimetype": "text/x-python",
   "name": "python",
   "nbconvert_exporter": "python",
   "pygments_lexer": "ipython3",
   "version": "3.5.5"
  }
 },
 "nbformat": 4,
 "nbformat_minor": 2
}
