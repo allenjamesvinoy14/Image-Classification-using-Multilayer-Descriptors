{
 "cells": [
  {
   "cell_type": "code",
   "execution_count": 1,
   "metadata": {},
   "outputs": [],
   "source": [
    "WEIGHTEDRED=0.299\n",
    "WEIGHTEDGREEN=0.587\n",
    "WEIGHTEDBLUE=0.114\n",
    "UMAX=0.436\n",
    "VMAX=0.615"
   ]
  },
  {
   "cell_type": "code",
   "execution_count": 4,
   "metadata": {},
   "outputs": [],
   "source": [
    "def convertRGBYUV(red,green,blue):\n",
    "    yPrime = (WEIGHTEDRED * red)+(WEIGHTEDGREEN * green) +(WEIGHTEDBLUE * blue);\n",
    "\n",
    "    #U = U[max] * (B - Y') / (1 - W[b])\n",
    "\n",
    "    uValue = UMAX * ((blueValue - yPrime)/(1 - WEIGHTEDBLUE));\n",
    "    \n",
    "    #V = V[max] * (R - Y') / (1 - W[r])\n",
    "    vValue = VMAX*((redValue - yPrime)/(1 - WEIGHTEDRED));\n",
    "    \n",
    "    return yPrime,uValue,vValue\n"
   ]
  },
  {
   "cell_type": "code",
   "execution_count": null,
   "metadata": {},
   "outputs": [],
   "source": []
  }
 ],
 "metadata": {
  "kernelspec": {
   "display_name": "Python 3",
   "language": "python",
   "name": "python3"
  },
  "language_info": {
   "codemirror_mode": {
    "name": "ipython",
    "version": 3
   },
   "file_extension": ".py",
   "mimetype": "text/x-python",
   "name": "python",
   "nbconvert_exporter": "python",
   "pygments_lexer": "ipython3",
   "version": "3.5.5"
  }
 },
 "nbformat": 4,
 "nbformat_minor": 2
}
