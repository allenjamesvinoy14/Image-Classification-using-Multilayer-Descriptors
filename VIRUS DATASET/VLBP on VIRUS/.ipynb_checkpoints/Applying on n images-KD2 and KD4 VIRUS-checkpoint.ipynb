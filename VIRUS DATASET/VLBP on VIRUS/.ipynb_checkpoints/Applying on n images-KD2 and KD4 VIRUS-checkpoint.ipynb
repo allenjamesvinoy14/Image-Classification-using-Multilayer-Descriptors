{
 "cells": [
  {
   "cell_type": "code",
   "execution_count": 1,
   "metadata": {},
   "outputs": [],
   "source": [
    "import numpy as np\n",
    "import cv2\n",
    "import os\n",
    "from pathlib import Path\n",
    "import numpy as np\n",
    "import matplotlib.pyplot as plt\n",
    "from itertools import cycle\n",
    "\n",
    "from sklearn import svm, datasets\n",
    "from sklearn.metrics import roc_curve, auc\n",
    "from sklearn.model_selection import train_test_split\n",
    "from sklearn.preprocessing import label_binarize\n",
    "from sklearn.multiclass import OneVsRestClassifier\n",
    "from scipy import interp"
   ]
  },
  {
   "cell_type": "code",
   "execution_count": 10,
   "metadata": {},
   "outputs": [],
   "source": [
    "path = 'C:\\\\Users\\\\james\\\\OneDrive\\\\Desktop\\\\VIT\\\\Sem III\\\\Image Processing\\\\Project\\\\Virus Preprocessed\\\\KD2'"
   ]
  },
  {
   "cell_type": "code",
   "execution_count": 11,
   "metadata": {},
   "outputs": [],
   "source": [
    "p = Path(path)\n",
    "\n",
    "def lout(check,neighbour):\n",
    "    if(check > neighbour):\n",
    "        return 0\n",
    "    else:\n",
    "        return 1\n",
    "        \n",
    "X=[]\n",
    "y=[]"
   ]
  },
  {
   "cell_type": "code",
   "execution_count": 4,
   "metadata": {},
   "outputs": [],
   "source": [
    "def vlbp(nimage):\n",
    "    lbp = np.array(nimage)\n",
    "    rows = lbp.shape[1]\n",
    "    cols = lbp.shape[2]\n",
    "    main=[]\n",
    "    for i in range(1,3):\n",
    "        for j in range(1,rows-1):\n",
    "            for k in range(1,cols-1):\n",
    "                check=lbp[i][j][k]\n",
    "                #print(check)\n",
    "                pattern=[]\n",
    "                pattern.append(lout(check,lbp[i-1][j][k]))\n",
    "                pattern.append(lout(check,lbp[i-1][j][k+1]))\n",
    "                pattern.append(lout(check,lbp[i-1][j-1][k]))\n",
    "                pattern.append(lout(check,lbp[i-1][j][k-1]))\n",
    "                pattern.append(lout(check,lbp[i-1][j+1][k]))\n",
    "                pattern.append(lout(check,lbp[i][j][k+1]))\n",
    "                pattern.append(lout(check,lbp[i][j-1][k]))\n",
    "                pattern.append(lout(check,lbp[i][j][k-1]))\n",
    "                pattern.append(lout(check,lbp[i][j+1][k]))\n",
    "                pattern.append(lout(check,lbp[i+1][j][k+1]))\n",
    "                pattern.append(lout(check,lbp[i+1][j-1][k]))\n",
    "                pattern.append(lout(check,lbp[i+1][j][k-1]))\n",
    "                pattern.append(lout(check,lbp[i+1][j+1][k]))\n",
    "                pattern.append(lout(check,lbp[i+1][j][k]))\n",
    "                main.append(pattern)\n",
    "    \n",
    "    newimg=[]\n",
    "    for item in main:\n",
    "        temp=''.join(list(map(str,item)))\n",
    "        a=int(str(temp), 2) #converting binary to integer. \n",
    "        newimg.append(a)\n",
    "    \n",
    "    test = np.histogram(newimg, bins=np.arange(0,2**14),range=(0,2**14), weights=None,density=1)\n",
    "    X.append(test[0])"
   ]
  },
  {
   "cell_type": "code",
   "execution_count": 12,
   "metadata": {},
   "outputs": [],
   "source": [
    "c=1\n",
    "nimg = []\n",
    "for x in p.iterdir():\n",
    "        image16 = cv2.imread(str(x), cv2.IMREAD_GRAYSCALE)\n",
    "        image16 = np.pad(image16, 1, mode='constant')\n",
    "        \n",
    "        if(c%4 != 0):\n",
    "            nimg.append(image16)\n",
    "        else:\n",
    "            nimg.append(image16)\n",
    "            vlbp(nimg)\n",
    "            nimg=[]\n",
    "            y.append(int((str(x).split(\"\\\\\")[-1])[6:9]))\n",
    "\n",
    "\n",
    "        #print(np.array(nimg).shape)\n",
    "        c=c+1\n"
   ]
  },
  {
   "cell_type": "code",
   "execution_count": 13,
   "metadata": {},
   "outputs": [],
   "source": [
    "X=np.array(X)\n",
    "y=np.array(y)\n",
    "y=y.reshape(len(y),1)"
   ]
  },
  {
   "cell_type": "code",
   "execution_count": 14,
   "metadata": {},
   "outputs": [
    {
     "data": {
      "text/plain": [
       "(863, 16383)"
      ]
     },
     "execution_count": 14,
     "metadata": {},
     "output_type": "execute_result"
    }
   ],
   "source": [
    "X.shape"
   ]
  },
  {
   "cell_type": "code",
   "execution_count": 15,
   "metadata": {},
   "outputs": [],
   "source": [
    "import pandas as pd\n",
    "from sklearn.metrics import confusion_matrix, classification_report\n",
    "from sklearn.model_selection import train_test_split\n",
    "\n",
    "X_train, X_test, y_train, y_test = train_test_split(X, y, test_size = 0.1, random_state = 18)\n"
   ]
  },
  {
   "cell_type": "code",
   "execution_count": 16,
   "metadata": {},
   "outputs": [],
   "source": [
    "from sklearn import preprocessing as pr\n",
    "X_train = pr.normalize(X_train,norm='l1')\n",
    "X_test = pr.normalize(X_test,norm='l1')"
   ]
  },
  {
   "cell_type": "code",
   "execution_count": 17,
   "metadata": {},
   "outputs": [],
   "source": [
    "from sklearn import svm\n",
    "clftest = svm.SVC(C=1.0, cache_size=200, class_weight=None, coef0=0.0,\n",
    "  decision_function_shape='ovr', degree=3, gamma='auto', kernel='rbf',\n",
    "  max_iter=-1, probability=False, random_state=None, shrinking=True,\n",
    "  tol=0.001, verbose=False)"
   ]
  },
  {
   "cell_type": "code",
   "execution_count": 18,
   "metadata": {},
   "outputs": [
    {
     "name": "stderr",
     "output_type": "stream",
     "text": [
      "C:\\Users\\james\\Anaconda3\\lib\\site-packages\\sklearn\\utils\\validation.py:578: DataConversionWarning: A column-vector y was passed when a 1d array was expected. Please change the shape of y to (n_samples, ), for example using ravel().\n",
      "  y = column_or_1d(y, warn=True)\n"
     ]
    },
    {
     "data": {
      "text/plain": [
       "SVC(C=1.0, cache_size=200, class_weight=None, coef0=0.0,\n",
       "  decision_function_shape='ovr', degree=3, gamma='auto', kernel='rbf',\n",
       "  max_iter=-1, probability=False, random_state=None, shrinking=True,\n",
       "  tol=0.001, verbose=False)"
      ]
     },
     "execution_count": 18,
     "metadata": {},
     "output_type": "execute_result"
    }
   ],
   "source": [
    "clftest.fit(X_train,y_train)"
   ]
  },
  {
   "cell_type": "code",
   "execution_count": 20,
   "metadata": {},
   "outputs": [],
   "source": [
    "y_score = clftest.decision_function(X_test)\n",
    "\n",
    "from sklearn.preprocessing import OneHotEncoder\n",
    "\n",
    "enc = OneHotEncoder()\n",
    "\n",
    "enc.fit(y_test)\n",
    "\n",
    "check = enc.transform(y_test).toarray()\n",
    "\n",
    "nclasses=13\n",
    "fpr = dict()\n",
    "tpr = dict()\n",
    "roc_auc = dict()\n",
    "for i in range(nclasses):\n",
    "    fpr[i], tpr[i], _ = roc_curve(check[:, i], y_score[:, i])\n",
    "    roc_auc[i] = auc(fpr[i], tpr[i])"
   ]
  },
  {
   "cell_type": "code",
   "execution_count": 21,
   "metadata": {},
   "outputs": [
    {
     "data": {
      "text/plain": [
       "0.6224671224155943"
      ]
     },
     "execution_count": 21,
     "metadata": {},
     "output_type": "execute_result"
    }
   ],
   "source": [
    "sum(roc_auc.values())/len(roc_auc.values())"
   ]
  },
  {
   "cell_type": "code",
   "execution_count": null,
   "metadata": {},
   "outputs": [],
   "source": []
  }
 ],
 "metadata": {
  "kernelspec": {
   "display_name": "Python 3",
   "language": "python",
   "name": "python3"
  },
  "language_info": {
   "codemirror_mode": {
    "name": "ipython",
    "version": 3
   },
   "file_extension": ".py",
   "mimetype": "text/x-python",
   "name": "python",
   "nbconvert_exporter": "python",
   "pygments_lexer": "ipython3",
   "version": "3.5.5"
  }
 },
 "nbformat": 4,
 "nbformat_minor": 2
}
